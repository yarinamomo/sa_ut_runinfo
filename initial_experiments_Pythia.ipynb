{
 "cells": [
  {
   "cell_type": "markdown",
   "id": "7988563a",
   "metadata": {},
   "source": [
    "## Examples in using runtime information with Pythia\n",
    "\n",
    "Setup the environment for [Pythia](https://github.com/plast-lab/doop-mirror/blob/master/docs/pythia.md) locally.\n",
    "\n",
    "Run pythia with commandline in linux for each script or automatically run all scripts with our instructions detailed in \"pythia_run_auto\""
   ]
  },
  {
   "cell_type": "markdown",
   "id": "a3205a0c",
   "metadata": {},
   "source": [
    "### Simple Example"
   ]
  },
  {
   "cell_type": "markdown",
   "id": "a781fcfa",
   "metadata": {},
   "source": [
    "Pythia cannot detect any error in the following *Python script*"
   ]
  },
  {
   "cell_type": "code",
   "execution_count": null,
   "id": "7a6a71c5",
   "metadata": {},
   "outputs": [],
   "source": [
    "# cell 1\n",
    "import tensorflow as tf\n",
    "import numpy as np\n",
    "\n",
    "x = np.loadtxt(\"data.csv\", delimiter=\",\") # \"data.csv\" is an array [[43,52,73],[41,18,94]] of shape [2,3]\n",
    "x = tf.constant(x)\n",
    "\n",
    "# cell 2\n",
    "x.set_shape([3,None]) # undetected shape mismatch error, 3 should be 2"
   ]
  },
  {
   "cell_type": "markdown",
   "id": "3fcf5d40",
   "metadata": {},
   "source": [
    "Pythia can detect tensor shape error with runtime info injected in the following *Python script*"
   ]
  },
  {
   "cell_type": "code",
   "execution_count": null,
   "id": "ac4eecd5",
   "metadata": {},
   "outputs": [],
   "source": [
    "# cell 1\n",
    "import tensorflow as tf\n",
    "import numpy as np\n",
    "\n",
    "x = np.loadtxt(\"data.csv\", delimiter=\",\") # \"data.csv\" is an array [[43,52,73],[41,18,94]] of shape [2,3]\n",
    "x = tf.constant(x)\n",
    "\n",
    "# runtime info from cell 1\n",
    "x = tf.constant(value=[[43,52,73],[41,18,94]],shape=(2,3)) #or x = tf.constant([[43,52,73],[41,18,94]])\n",
    "\n",
    "# cell 2\n",
    "x.set_shape([3,None]) # Error: Dimension 0 in both shapes must be equal, but are 2 and 3. Shapes are [2,3] and [3,?]."
   ]
  },
  {
   "cell_type": "code",
   "execution_count": null,
   "id": "f2267244",
   "metadata": {},
   "outputs": [],
   "source": []
  }
 ],
 "metadata": {
  "kernelspec": {
   "display_name": "Python 3",
   "language": "python",
   "name": "python3"
  },
  "language_info": {
   "codemirror_mode": {
    "name": "ipython",
    "version": 3
   },
   "file_extension": ".py",
   "mimetype": "text/x-python",
   "name": "python",
   "nbconvert_exporter": "python",
   "pygments_lexer": "ipython3",
   "version": "3.6.13"
  }
 },
 "nbformat": 4,
 "nbformat_minor": 5
}
