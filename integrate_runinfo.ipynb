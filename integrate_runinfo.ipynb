{
 "cells": [
  {
   "cell_type": "markdown",
   "id": "d18fd44e",
   "metadata": {},
   "source": [
    "## Integrate runtime information"
   ]
  },
  {
   "cell_type": "markdown",
   "id": "06d5a69d",
   "metadata": {},
   "source": [
    "### 1. Explanation with a simple example\n",
    "\n",
    "Consider the following script, if we separate all the assignments from the operations, it ends up into 2 cells.\n",
    "\n",
    "The data file is an array of [[43,52,73],[41,18,94]], with shape [2,3] (one can simulate with x = np.array([[43,52,73],[41,18,94]]))"
   ]
  },
  {
   "cell_type": "code",
   "execution_count": null,
   "id": "9177102b",
   "metadata": {},
   "outputs": [],
   "source": [
    "# cell 1\n",
    "import tensorflow as tf\n",
    "import numpy as np\n",
    "\n",
    "x = np.loadtxt(\"data.csv\", delimiter=\",\")\n",
    "x = tf.constant(x)\n",
    "\n",
    "# cell 2\n",
    "x.set_shape([3,None])"
   ]
  },
  {
   "cell_type": "markdown",
   "id": "b58544d8",
   "metadata": {},
   "source": [
    "In notebook environment, if the execute cell 1, we can see what x looks like directly"
   ]
  },
  {
   "cell_type": "code",
   "execution_count": 21,
   "id": "2133301a",
   "metadata": {},
   "outputs": [
    {
     "data": {
      "text/plain": [
       "<tf.Tensor: shape=(2, 3), dtype=int32, numpy=\n",
       "array([[43, 52, 73],\n",
       "       [41, 18, 94]])>"
      ]
     },
     "execution_count": 21,
     "metadata": {},
     "output_type": "execute_result"
    }
   ],
   "source": [
    "# cell 1\n",
    "import tensorflow as tf\n",
    "import numpy as np\n",
    "\n",
    "x = np.loadtxt(\"data.csv\", delimiter=\",\")\n",
    "x = tf.constant(x)\n",
    "x"
   ]
  },
  {
   "cell_type": "markdown",
   "id": "4d718f5c",
   "metadata": {},
   "source": [
    "We aim to use Python assignment instructions to represent the **type** and **shape** runtime information of variables of interest. For example, if we use the following instruction, we can get the same runtime information of variable x"
   ]
  },
  {
   "cell_type": "code",
   "execution_count": 20,
   "id": "e5d1f3c9",
   "metadata": {},
   "outputs": [
    {
     "data": {
      "text/plain": [
       "<tf.Tensor: shape=(2, 3), dtype=int32, numpy=\n",
       "array([[43, 52, 73],\n",
       "       [41, 18, 94]])>"
      ]
     },
     "execution_count": 20,
     "metadata": {},
     "output_type": "execute_result"
    }
   ],
   "source": [
    "# to simulate runtime info of x\n",
    "x = tf.constant(value=[[43,52,73],[41,18,94]],shape=(2,3))\n",
    "x"
   ]
  },
  {
   "cell_type": "markdown",
   "id": "682a43cf",
   "metadata": {},
   "source": [
    "Then we can inject this runtime information as Python instructions/code into the original Python script and get the runtime injected version"
   ]
  },
  {
   "cell_type": "code",
   "execution_count": null,
   "id": "baf00b3e",
   "metadata": {},
   "outputs": [],
   "source": [
    "# cell 1\n",
    "import tensorflow as tf\n",
    "import numpy as np\n",
    "\n",
    "x = np.loadtxt(\"data.csv\", delimiter=\",\")\n",
    "x = tf.constant(x)\n",
    "\n",
    "# runtime info from cell 1\n",
    "x = tf.constant(value=[[43,52,73],[41,18,94]],shape=(2,3))\n",
    "\n",
    "# cell 2\n",
    "x.set_shape([3,None])"
   ]
  },
  {
   "cell_type": "markdown",
   "id": "bed73d4f",
   "metadata": {},
   "source": [
    "To systematically and sutomatically generate runtime information as Python instructions, we developed a script: nb_runtime_parser.py. \n",
    "\n",
    "1. Script cell splitting\n",
    "2. Execute one cell \n",
    "3. Run the script to generate Python code that represents runtime information of the execued cell\n",
    "4. Repeat steps 2 and 3\n",
    "\n",
    "For static analyzer like Pythia, it takes the order of the code seriously. The runtime information only makes sense if you place it right after its corresponding executed cell, and use it for the analysis of the following code. However, one can always engineer the order relationship between the original code and runtime information to maximize the performance of static analyzers. Afterall, in notebooks, one can execute in any order. "
   ]
  },
  {
   "cell_type": "markdown",
   "id": "182a4817",
   "metadata": {},
   "source": [
    "### 2. Example UT-10B"
   ]
  },
  {
   "cell_type": "markdown",
   "id": "9133e342",
   "metadata": {},
   "source": [
    "Run cell 1 to generate runtime information in notebook environment"
   ]
  },
  {
   "cell_type": "code",
   "execution_count": 4,
   "id": "79f49059",
   "metadata": {},
   "outputs": [
    {
     "name": "stdout",
     "output_type": "stream",
     "text": [
      "6\n"
     ]
    }
   ],
   "source": [
    "# cell 1\n",
    "\n",
    "import sys\n",
    "import tensorflow as tf\n",
    "import numpy\n",
    "\n",
    "assert tf.__version__ == \"1.8.0\"\n",
    "tf.set_random_seed(20180130)\n",
    "numpy.random.seed(20180130)\n",
    "\n",
    "rng = numpy.random\n",
    "\n",
    "# Parameters\n",
    "learning_rate = 0.01\n",
    "training_epochs = 2000\n",
    "display_step = 50\n",
    "\n",
    "# data:\n",
    "\n",
    "f = open(\"required_dataset_by_ut/ut10/data.csv\")\n",
    "data = numpy.loadtxt(f, delimiter=\",\")\n",
    "\n",
    "train_X = data[:60000, :-1]\n",
    "train_Y = data[:60000, -1]\n",
    "\n",
    "test_X = data[60000:80000, :-1]\n",
    "test_Y = data[60000:80000, -1]\n",
    "\n",
    "X_val = data[80000:, :-1]\n",
    "y_val = data[80000:, -1]\n",
    "\n",
    "# Training Data\n",
    "n_input = train_X.shape[1]\n",
    "n_samples = train_X.shape[0]\n",
    "\n",
    "print(n_input)\n",
    "\n",
    "# tf Graph Input\n",
    "X = tf.placeholder(tf.float32, [n_input])\n",
    "Y = tf.placeholder(tf.float32)\n",
    "\n",
    "# Create Model\n",
    "\n",
    "# Set model weights\n",
    "W = tf.Variable(tf.zeros([6]), name=\"weight\")\n",
    "b = tf.Variable(tf.zeros([1]), name=\"bias\")"
   ]
  },
  {
   "cell_type": "markdown",
   "id": "bcc36424",
   "metadata": {},
   "source": [
    "Use our script to parse runtime info to Python code"
   ]
  },
  {
   "cell_type": "code",
   "execution_count": 6,
   "id": "eb8ec789",
   "metadata": {},
   "outputs": [
    {
     "name": "stdout",
     "output_type": "stream",
     "text": [
      "W = tf.Variable(tf.zeros([6,]))\n",
      "X = tf.placeholder(tf.float32, [6,])\n",
      "X_val = np.random.normal(size=(19999, 6))\n",
      "b = tf.Variable(tf.zeros([1,]))\n",
      "data = np.random.normal(size=(99999, 7))\n",
      "display_step = 50\n",
      "learning_rate = 0.01\n",
      "n_input = 6\n",
      "n_samples = 60000\n",
      "test_X = np.random.normal(size=(20000, 6))\n",
      "test_Y = np.random.normal(size=(20000,))\n",
      "train_X = np.random.normal(size=(60000, 6))\n",
      "train_Y = np.random.normal(size=(60000,))\n",
      "training_epochs = 2000\n",
      "y_val = np.random.normal(size=(19999,))\n"
     ]
    }
   ],
   "source": [
    "import nb_runtime_parser\n",
    "\n",
    "w = %who_ls\n",
    "print(nb_runtime_parser.runtime_info_to_code(locals(), w))"
   ]
  },
  {
   "cell_type": "markdown",
   "id": "2e714971",
   "metadata": {},
   "source": [
    "No need to do any thing with cell 2 which is the last cell. Because like we explained earlier, Pythia can only use the runtime information for analyzing following code and there is no code after this cell."
   ]
  },
  {
   "cell_type": "code",
   "execution_count": null,
   "id": "2dc98511",
   "metadata": {},
   "outputs": [],
   "source": [
    "# Construct a linear model\n",
    "activation = tf.add(tf.multiply(X, W), b)\n",
    "\n",
    "# Minimize the squared errors\n",
    "cost = tf.reduce_sum(tf.pow(activation - Y, 2)) / (2 * n_samples)  # L2 loss\n",
    "optimizer = tf.train.GradientDescentOptimizer(learning_rate).minimize(cost)  # Gradient descent\n",
    "\n",
    "# Initializing the variables\n",
    "init = tf.initialize_all_variables()\n",
    "\n",
    "# Launch the graph\n",
    "with tf.Session() as sess:\n",
    "    sess.run(init)\n",
    "\n",
    "    # Fit all training data\n",
    "    for epoch in range(training_epochs):\n",
    "        for (x, y) in zip(train_X, train_Y):\n",
    "            sess.run(optimizer, feed_dict={X: x, Y: y})\n",
    "\n",
    "        # Display logs per epoch step\n",
    "        if epoch % display_step == 0:\n",
    "            print(\"Epoch:\", '%04d' % (epoch + 1), \"cost=\",\n",
    "                  \"{:.9f}\".format(sess.run(cost, feed_dict={X: train_X, Y: train_Y})),\n",
    "                  \"W=\", sess.run(W), \"b=\", sess.run(b))\n",
    "\n",
    "    print(\"Optimization Finished!\")\n",
    "    training_cost = sess.run(cost, feed_dict={X: train_X, Y: train_Y})\n",
    "    print(\"Training cost=\", training_cost, \"W=\", sess.run(W), \"b=\", sess.run(b), '\\n')\n",
    "\n",
    "    print(\"Testing... (L2 loss Comparison)\")\n",
    "    testing_cost = sess.run(tf.reduce_sum(tf.pow(activation - Y, 2)) / (2 * test_X.shape[0]),\n",
    "                            feed_dict={X: test_X, Y: test_Y})  # same function as cost above\n",
    "    print(\"Testing cost=\", testing_cost)\n",
    "    print(\"Absolute l2 loss difference:\", abs(training_cost - testing_cost))"
   ]
  },
  {
   "cell_type": "markdown",
   "id": "727ef717",
   "metadata": {},
   "source": [
    "Now we can put all the code together into a Python script and obtain the Python script with runtime information injected."
   ]
  },
  {
   "cell_type": "code",
   "execution_count": null,
   "id": "13334ae0",
   "metadata": {},
   "outputs": [],
   "source": []
  }
 ],
 "metadata": {
  "kernelspec": {
   "display_name": "Python 3",
   "language": "python",
   "name": "python3"
  },
  "language_info": {
   "codemirror_mode": {
    "name": "ipython",
    "version": 3
   },
   "file_extension": ".py",
   "mimetype": "text/x-python",
   "name": "python",
   "nbconvert_exporter": "python",
   "pygments_lexer": "ipython3",
   "version": "3.6.13"
  }
 },
 "nbformat": 4,
 "nbformat_minor": 5
}
